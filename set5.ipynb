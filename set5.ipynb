{
 "cells": [
  {
   "cell_type": "markdown",
   "id": "distinguished-journey",
   "metadata": {},
   "source": [
    "# ME133b Set \\#5\n",
    "\n",
    "## Kevin Gauld\n",
    "\n",
    "\n",
    "\n",
    "# Problem 1: Grid-Based Localization\n",
    "\n",
    "### Imports + Setup"
   ]
  },
  {
   "cell_type": "code",
   "execution_count": 1,
   "id": "innocent-experience",
   "metadata": {},
   "outputs": [],
   "source": [
    "import numpy as np\n",
    "\n",
    "from hw5_utilities import Visualization, Robot\n",
    "\n",
    "#  Define the Walls\n",
    "w = ['xxxxxxxxxxxxxxxxxxxxxxxxxxxxxxxxxxxxxxxxxxxxxxxxx',\n",
    "     'x               x               x               x',\n",
    "     'x                x             x                x',\n",
    "     'x                 x           x                 x',\n",
    "     'x        xxxx      x         x                  x',\n",
    "     'x        x   x      x       x                   x',\n",
    "     'x        x    x      x     x      xxxxx         x',\n",
    "     'x        x     x      x   x     xxx   xxx       x',\n",
    "     'x        x      x      x x     xx       xx      x',\n",
    "     'x        x       x      x      x         x      x',\n",
    "     'x        x        x           xx         xx     x',\n",
    "     'x        x        x           x           x     x',\n",
    "     'x        x        x           x           x     x',\n",
    "     'x        x        x           x           x     x',\n",
    "     'x                 xx         xx           x     x',\n",
    "     'x                  x         x                  x',\n",
    "     'x                  xx       xx                  x',\n",
    "     'x                   xxx   xxx                   x',\n",
    "     'x                     xxxxx         x           x',\n",
    "     'x                                   x          xx',\n",
    "     'x                                   x         xxx',\n",
    "     'x            x                      x        xxxx',\n",
    "     'x           xxx                     x       xxxxx',\n",
    "     'x          xxxxx                    x      xxxxxx',\n",
    "     'xxxxxxxxxxxxxxxxxxxxxxxxxxxxxxxxxxxxxxxxxxxxxxxxx']\n",
    "\n",
    "walls = np.array([[1.0*(c == 'x') for c in s] for s in w])\n",
    "rows  = np.size(walls, axis=0)\n",
    "cols  = np.size(walls, axis=1)\n",
    "\n",
    "# ----- Helper Functions ------\n",
    "\n",
    "# Normalizes a grid of probabilistic locations (sum of all locations = 1)\n",
    "def normalize(grid):\n",
    "    s = np.sum(grid)\n",
    "    if (s == 0.0):\n",
    "        print(\"LOST ALL BELIEF.  SHOULD NOT HAPPEN.  STARTING OVER!!!!\")\n",
    "        grid = 1.0 - walls\n",
    "        s    = np.sum(grid)\n",
    "    return grid/s\n",
    "\n",
    "# Get the parameters for any given part a-e of the question. Given in a tuple formatted\n",
    "# (visual, robot, probCmd, probProximal)\n",
    "def get_init(part):\n",
    "    # Initialize the figure.\n",
    "    visual = Visualization(walls)\n",
    "    \n",
    "    # \"for fun\" case\n",
    "    robot = robot = Robot(walls, probCmd = 0.8, probProximal = [0.9, 0.6, 0.3])\n",
    "    if part == 'a':\n",
    "        robot = Robot(walls)\n",
    "    elif part == 'b':\n",
    "        robot = Robot(walls, row=12, col=26)\n",
    "    elif part == 'c':\n",
    "        robot = Robot(walls, row=12, col=26, probProximal = [0.9, 0.6, 0.3])\n",
    "    elif part == 'd' or part == 'e':\n",
    "        robot = Robot(walls, row=15, col=47, \n",
    "                      probCmd = 0.8, probProximal = [0.9, 0.6, 0.3])\n",
    "\n",
    "\n",
    "\n",
    "    # Pick the algorithm assumptions:\n",
    "    probCmd      = 1.0   # Part (a/b), (c), (d)\n",
    "    if part == 'e':\n",
    "        probCmd = 0.8    # Part (e)\n",
    "    \n",
    "    \n",
    "    probProximal = [0.9, 0.6, 0.3]      # Part (c), (d), (e)\n",
    "    if part == 'a' or part == 'b':\n",
    "        probProximal = [1.0]                # Part (a/b)\n",
    "        \n",
    "    \n",
    "    return (visual, robot, probCmd, probProximal)"
   ]
  },
  {
   "cell_type": "markdown",
   "id": "moved-homeless",
   "metadata": {},
   "source": [
    "## a) Basic Code\n",
    "\n",
    "\n",
    "### a1) Prediction code\n",
    "\n",
    "Predicts a new state based on the current belief `bel`, direction given by `drow` and `dcol`, and chance of randomness `probCmd` (by default `1.0`). This will return a grid of states which is normalized such that the sum of the probabilities across the grid is `1.0`"
   ]
  },
  {
   "cell_type": "code",
   "execution_count": 2,
   "id": "chief-thanksgiving",
   "metadata": {},
   "outputs": [],
   "source": [
    "def computePrediction(bel, drow, dcol, probCmd = 1):\n",
    "    # Prepare an empty prediction grid.\n",
    "    prd = np.zeros((rows,cols))\n",
    "\n",
    "    # Iterate over/determine the probability for all (non-wall) elements.\n",
    "    for row in range(1, rows-1):\n",
    "        for col in range(1, cols-1):\n",
    "            ncoord = (row+drow, col+dcol)\n",
    "            ccoord = (row, col)\n",
    "            # If the new position is not a wall, find probability of moving \n",
    "            # there, else do not change it (can't move into wall)\n",
    "            prd[ncoord] += probCmd*bel[ccoord] if walls[ncoord] != 1 else 0\n",
    "            \n",
    "            # If the new position is a wall, then the probability of moving into the current\n",
    "            # position is heightened, else lower by the probability of moving to the open position\n",
    "            prd[ccoord] += (1-probCmd)*bel[ccoord] if walls[ncoord] != 1 else bel[ccoord]\n",
    "            \n",
    "    # Return the normalized prediction grid\n",
    "    return normalize(prd)"
   ]
  },
  {
   "cell_type": "markdown",
   "id": "super-constraint",
   "metadata": {},
   "source": [
    "### a2) Updating Belief\n",
    "\n",
    "Based on the prior belief `prior`, the probability that the sensor is on `probSensor`, and the value of the sensor `sensor`, returns the new set of beliefs for the grid."
   ]
  },
  {
   "cell_type": "code",
   "execution_count": 3,
   "id": "distributed-logic",
   "metadata": {},
   "outputs": [],
   "source": [
    "def updateBelief(prior, probSensor, sensor):\n",
    "    # If the sensor is on, then the next value is prior * P(sensor is on)\n",
    "    # if it's off, then the value is prior * (1 - P(sensor is on))\n",
    "    post = probSensor*prior if sensor else prior*(1-probSensor)\n",
    "\n",
    "    # Normalize.\n",
    "    return normalize(post)"
   ]
  },
  {
   "cell_type": "markdown",
   "id": "abandoned-oriental",
   "metadata": {},
   "source": [
    "### a3) Precompute the Sensor Probability Grid\n",
    "\n",
    "Given a direction `drow, dcol`, and a list of probabilities `probProximal` that the sensor triggers at dist=(index+1), returns the probability that the sensor is on at any given location on the grid."
   ]
  },
  {
   "cell_type": "code",
   "execution_count": 4,
   "id": "serious-myanmar",
   "metadata": {},
   "outputs": [],
   "source": [
    "def computeSensorProbability(drow, dcol, probProximal = [1.0]):\n",
    "    # Prepare an empty probability grid.\n",
    "    prob = np.zeros((rows, cols))\n",
    "\n",
    "    # Pre-compute the probability for each grid element, knowing the\n",
    "    # walls and the direction of the sensor.\n",
    "    for row in range(1, rows-1):\n",
    "        for col in range(1, cols-1):\n",
    "            if walls[row][col] == 1: continue\n",
    "            for i in range(len(probProximal)):\n",
    "                crow = drow*(i+1)+row\n",
    "                ccol = dcol*(i+1)+col\n",
    "                if not 0<=crow<rows or not 0<=ccol<cols:\n",
    "                    break\n",
    "                if walls[crow][ccol] == 1:\n",
    "                    prob[row][col] = probProximal[i]\n",
    "                    break\n",
    "    \n",
    "    # Return the computed grid. Not normalized since the sensor can have\n",
    "    # a 100% chance of being on for 2 points in the grid at the same time\n",
    "    return prob"
   ]
  },
  {
   "cell_type": "markdown",
   "id": "widespread-pillow",
   "metadata": {},
   "source": [
    "### Other utilities to run the motion"
   ]
  },
  {
   "cell_type": "code",
   "execution_count": 5,
   "id": "experimental-vegetation",
   "metadata": {},
   "outputs": [],
   "source": [
    "# Runs the grid for a given part from the user input\n",
    "def run_grid(part):\n",
    "    (visual, robot, probCmd, probProximal) = get_init(part)\n",
    "    \n",
    "    # Pre-compute probability grids for each sensor reading\n",
    "    probUp    = computeSensorProbability(-1,  0, probProximal)\n",
    "    probRight = computeSensorProbability( 0,  1, probProximal)\n",
    "    probDown  = computeSensorProbability( 1,  0, probProximal)\n",
    "    probLeft  = computeSensorProbability( 0, -1, probProximal)\n",
    "\n",
    "    # Start with a uniform belief grid.\n",
    "    bel = 1.0 - walls\n",
    "    bel = (1/np.sum(bel)) * bel\n",
    "\n",
    "\n",
    "    # Loop continually.\n",
    "    while True:\n",
    "        # Show the current belief.  Also show the actual position.\n",
    "        visual.Show(bel, robot.Position())\n",
    "\n",
    "        # Get the command key to determine the direction.\n",
    "        while True:\n",
    "            key = input(\"Cmd (q=quit, i=up, m=down, j=left, k=right) ?\")\n",
    "            if   (key == 'q'):  return\n",
    "            elif (key == 'i'):  (drow, dcol) = (-1,  0) ; break\n",
    "            elif (key == 'm'):  (drow, dcol) = ( 1,  0) ; break\n",
    "            elif (key == 'j'):  (drow, dcol) = ( 0, -1) ; break\n",
    "            elif (key == 'k'):  (drow, dcol) = ( 0,  1) ; break\n",
    "\n",
    "        # Move the robot in the simulation.\n",
    "        robot.Command(drow, dcol)\n",
    "        \n",
    "        # Compute a prediction.\n",
    "        prd = computePrediction(bel, drow, dcol, probCmd)\n",
    "\n",
    "\n",
    "        # Correct the prediction/execute the measurement update.\n",
    "        bel = prd\n",
    "        bel = updateBelief(bel, probUp,    robot.Sensor(-1,  0))\n",
    "        bel = updateBelief(bel, probRight, robot.Sensor( 0,  1))\n",
    "        bel = updateBelief(bel, probDown,  robot.Sensor( 1,  0))\n",
    "        bel = updateBelief(bel, probLeft,  robot.Sensor( 0, -1))\n",
    "        \n",
    "\n",
    "# Shows the last position after a given list of commands for a given part\n",
    "def get_final(part, cmdlist):\n",
    "    (visual, robot, probCmd, probProximal) = get_init(part)\n",
    "\n",
    "    # Pre-compute the probability grids for each sensor reading.\n",
    "    probUp    = computeSensorProbability(-1,  0, probProximal)\n",
    "    probRight = computeSensorProbability( 0,  1, probProximal)\n",
    "    probDown  = computeSensorProbability( 1,  0, probProximal)\n",
    "    probLeft  = computeSensorProbability( 0, -1, probProximal)\n",
    "\n",
    "    # Start with a uniform belief grid.\n",
    "    bel = 1.0 - walls\n",
    "    bel = (1/np.sum(bel)) * bel\n",
    "\n",
    "    for k in range(len(cmdlist)):\n",
    "        (drow, dcol) = cmdlist[k]\n",
    "\n",
    "        # Move the robot in the simulation.\n",
    "        robot.Command(drow, dcol)\n",
    "\n",
    "        # Compute a prediction.\n",
    "        prd = computePrediction(bel, drow, dcol, probCmd)\n",
    "\n",
    "\n",
    "        # Correct the prediction/execute the measurement update.\n",
    "        bel = prd\n",
    "        bel = updateBelief(bel, probUp,    robot.Sensor(-1,  0))\n",
    "        bel = updateBelief(bel, probRight, robot.Sensor( 0,  1))\n",
    "        bel = updateBelief(bel, probDown,  robot.Sensor( 1,  0))\n",
    "        bel = updateBelief(bel, probLeft,  robot.Sensor( 0, -1))\n",
    "\n",
    "    visual.Show(bel, robot.Position())\n",
    "    print(\"Showing Final Position\")"
   ]
  },
  {
   "cell_type": "markdown",
   "id": "widespread-assignment",
   "metadata": {},
   "source": [
    "## a) Probability maps for up and right"
   ]
  },
  {
   "cell_type": "code",
   "execution_count": 6,
   "id": "exact-transmission",
   "metadata": {},
   "outputs": [
    {
     "data": {
      "image/png": "[encoded data removed]",
      "text/plain": [
       "<Figure size 432x288 with 1 Axes>"
      ]
     },
     "metadata": {
      "needs_background": "light"
     },
     "output_type": "display_data"
    },
    {
     "name": "stdout",
     "output_type": "stream",
     "text": [
      "Showing sensor up\n"
     ]
    },
    {
     "data": {
      "image/png": "[encoded data removed]",
      "text/plain": [
       "<Figure size 432x288 with 1 Axes>"
      ]
     },
     "metadata": {
      "needs_background": "light"
     },
     "output_type": "display_data"
    },
    {
     "name": "stdout",
     "output_type": "stream",
     "text": [
      "Showing sensor right\n"
     ]
    }
   ],
   "source": [
    "(visual, robot, probCmd, probProximal) = get_init('a')\n",
    "\n",
    "probUp    = computeSensorProbability(-1,  0, probProximal)\n",
    "probRight = computeSensorProbability( 0,  1, probProximal)\n",
    "\n",
    "visual.Show(probUp)\n",
    "print(\"Showing sensor up\")\n",
    "visual.Show(probRight)\n",
    "print(\"Showing sensor right\")"
   ]
  },
  {
   "cell_type": "markdown",
   "id": "pediatric-estimate",
   "metadata": {},
   "source": [
    "## b) Demoing the basic code"
   ]
  },
  {
   "cell_type": "code",
   "execution_count": 7,
   "id": "retired-bryan",
   "metadata": {},
   "outputs": [
    {
     "data": {
      "image/png": "[encoded data removed]",
      "text/plain": [
       "<Figure size 432x288 with 1 Axes>"
      ]
     },
     "metadata": {
      "needs_background": "light"
     },
     "output_type": "display_data"
    },
    {
     "name": "stdout",
     "output_type": "stream",
     "text": [
      "Cmd (q=quit, i=up, m=down, j=left, k=right) ?i\n"
     ]
    },
    {
     "data": {
      "image/png": "[encoded data removed]",
      "text/plain": [
       "<Figure size 432x288 with 1 Axes>"
      ]
     },
     "metadata": {
      "needs_background": "light"
     },
     "output_type": "display_data"
    },
    {
     "name": "stdout",
     "output_type": "stream",
     "text": [
      "Cmd (q=quit, i=up, m=down, j=left, k=right) ?i\n"
     ]
    },
    {
     "data": {
      "image/png": "[encoded data removed]",
      "text/plain": [
       "<Figure size 432x288 with 1 Axes>"
      ]
     },
     "metadata": {
      "needs_background": "light"
     },
     "output_type": "display_data"
    },
    {
     "name": "stdout",
     "output_type": "stream",
     "text": [
      "Cmd (q=quit, i=up, m=down, j=left, k=right) ?i\n"
     ]
    },
    {
     "data": {
      "image/png": "[encoded data removed]",
      "text/plain": [
       "<Figure size 432x288 with 1 Axes>"
      ]
     },
     "metadata": {
      "needs_background": "light"
     },
     "output_type": "display_data"
    },
    {
     "name": "stdout",
     "output_type": "stream",
     "text": [
      "Cmd (q=quit, i=up, m=down, j=left, k=right) ?q\n"
     ]
    }
   ],
   "source": [
    "run_grid('b')"
   ]
  },
  {
   "cell_type": "markdown",
   "id": "medical-currency",
   "metadata": {},
   "source": [
    "The minimum number of additional moves required is 4. The first move should be to the left, localizing to the wall. Moving down then left twice eliminates all possibilities other than the actual position of the robot."
   ]
  },
  {
   "cell_type": "code",
   "execution_count": 16,
   "id": "arabic-wallet",
   "metadata": {},
   "outputs": [
    {
     "data": {
      "image/png": "[encoded data removed]",
      "text/plain": [
       "<Figure size 432x288 with 1 Axes>"
      ]
     },
     "metadata": {
      "needs_background": "light"
     },
     "output_type": "display_data"
    },
    {
     "name": "stdout",
     "output_type": "stream",
     "text": [
      "Showing Final Position\n"
     ]
    }
   ],
   "source": [
    "# Create a path of 3 up then 1 left then 1 down then 2 left then show it \n",
    "path = [(-1, 0), (-1,0), (-1,  0), \n",
    "        ( 0,-1), ( 1,0), ( 0, -1), (0, -1)]\n",
    "\n",
    "get_final('b', path)"
   ]
  },
  {
   "cell_type": "markdown",
   "id": "fallen-inquiry",
   "metadata": {},
   "source": [
    "## c) Sensor extended range and noise"
   ]
  },
  {
   "cell_type": "code",
   "execution_count": 9,
   "id": "critical-seeker",
   "metadata": {},
   "outputs": [
    {
     "data": {
      "image/png": "[encoded data removed]",
      "text/plain": [
       "<Figure size 432x288 with 1 Axes>"
      ]
     },
     "metadata": {
      "needs_background": "light"
     },
     "output_type": "display_data"
    },
    {
     "name": "stdout",
     "output_type": "stream",
     "text": [
      "Showing sensor up\n"
     ]
    },
    {
     "data": {
      "image/png": "[encoded data removed]",
      "text/plain": [
       "<Figure size 432x288 with 1 Axes>"
      ]
     },
     "metadata": {
      "needs_background": "light"
     },
     "output_type": "display_data"
    },
    {
     "name": "stdout",
     "output_type": "stream",
     "text": [
      "Showing sensor right\n"
     ]
    }
   ],
   "source": [
    "(visual, robot, probCmd, probProximal) = get_init('c')\n",
    "\n",
    "probUp    = computeSensorProbability(-1,  0, probProximal)\n",
    "probRight = computeSensorProbability( 0,  1, probProximal)\n",
    "\n",
    "\n",
    "visual.Show(probUp)\n",
    "print(\"Showing sensor up\")\n",
    "visual.Show(probRight)\n",
    "print(\"Showing sensor right\")"
   ]
  },
  {
   "cell_type": "code",
   "execution_count": 17,
   "id": "christian-gibraltar",
   "metadata": {
    "scrolled": false
   },
   "outputs": [
    {
     "data": {
      "image/png": "[encoded data removed]",
      "text/plain": [
       "<Figure size 432x288 with 1 Axes>"
      ]
     },
     "metadata": {
      "needs_background": "light"
     },
     "output_type": "display_data"
    },
    {
     "name": "stdout",
     "output_type": "stream",
     "text": [
      "Showing Final Position\n"
     ]
    }
   ],
   "source": [
    "# Create a path of 3 up then 1 left then 1 down then 2 left then show it \n",
    "path = [(-1, 0), (-1,0), (-1,  0), \n",
    "        ( 0,-1), ( 1,0), ( 0, -1), (0, -1)]\n",
    "\n",
    "get_final('c', path)"
   ]
  },
  {
   "cell_type": "markdown",
   "id": "narrative-consumer",
   "metadata": {},
   "source": [
    "The move sequence does not converge to a single point because there is uncertainty in the distance of the detector from the wall. The noise within the system prevents the algorithm from making a certain guess as to where the robot is, even when it is touching the wall, because the sensor could just be detecting the wall from further away (although this is by design less likely)"
   ]
  },
  {
   "cell_type": "markdown",
   "id": "adequate-payment",
   "metadata": {},
   "source": [
    "## d) Adding Randomness to the Command Execution"
   ]
  },
  {
   "cell_type": "code",
   "execution_count": 15,
   "id": "identical-intensity",
   "metadata": {},
   "outputs": [
    {
     "data": {
      "image/png": "[encoded data removed]",
      "text/plain": [
       "<Figure size 432x288 with 1 Axes>"
      ]
     },
     "metadata": {
      "needs_background": "light"
     },
     "output_type": "display_data"
    },
    {
     "name": "stdout",
     "output_type": "stream",
     "text": [
      "Showing Final Position\n"
     ]
    }
   ],
   "source": [
    "path = []\n",
    "for k in range(18):\n",
    "    if k < 12: path.append((0, -1))\n",
    "    else: path.append((1, 0))\n",
    "get_final('d', path)"
   ]
  },
  {
   "cell_type": "markdown",
   "id": "nonprofit-orleans",
   "metadata": {},
   "source": [
    "## e) Fixing the Command Randomness"
   ]
  },
  {
   "cell_type": "code",
   "execution_count": 12,
   "id": "caring-child",
   "metadata": {},
   "outputs": [
    {
     "data": {
      "image/png": "[encoded data removed]",
      "text/plain": [
       "<Figure size 432x288 with 1 Axes>"
      ]
     },
     "metadata": {
      "needs_background": "light"
     },
     "output_type": "display_data"
    },
    {
     "name": "stdout",
     "output_type": "stream",
     "text": [
      "Showing Final Position\n"
     ]
    }
   ],
   "source": [
    "path = []\n",
    "for k in range(18):\n",
    "    if k < 12: path.append((0, -1))\n",
    "    else: path.append((1, 0))\n",
    "get_final('e', path)"
   ]
  },
  {
   "cell_type": "markdown",
   "id": "favorite-sullivan",
   "metadata": {},
   "source": [
    "# Problem 2: Time Spent\n",
    "\n",
    "3 hours"
   ]
  }
 ],
 "metadata": {
  "kernelspec": {
   "display_name": "Python 3",
   "language": "python",
   "name": "python3"
  },
  "language_info": {
   "codemirror_mode": {
    "name": "ipython",
    "version": 3
   },
   "file_extension": ".py",
   "mimetype": "text/x-python",
   "name": "python",
   "nbconvert_exporter": "python",
   "pygments_lexer": "ipython3",
   "version": "3.8.8"
  }
 },
 "nbformat": 4,
 "nbformat_minor": 5
}
