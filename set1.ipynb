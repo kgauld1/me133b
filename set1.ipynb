{
 "cells": [
  {
   "cell_type": "markdown",
   "id": "indie-billion",
   "metadata": {},
   "source": [
    "# ME/CS/EE 133b Set #1\n",
    "### Kevin Gauld"
   ]
  },
  {
   "cell_type": "markdown",
   "id": "conscious-tractor",
   "metadata": {},
   "source": [
    "## Problem 1: Discrete Planning Challenge\n",
    "\n",
    "### Setup\n",
    "\n",
    "Here, we import required modules and define some helpful constants"
   ]
  },
  {
   "cell_type": "code",
   "execution_count": 1,
   "id": "serial-jesus",
   "metadata": {},
   "outputs": [],
   "source": [
    "import numpy as np\n",
    "import matplotlib\n",
    "import matplotlib.pyplot as plt"
   ]
  },
  {
   "cell_type": "code",
   "execution_count": 2,
   "id": "proprietary-little",
   "metadata": {},
   "outputs": [],
   "source": [
    "# Define the possible status levels for each state.\n",
    "WALL      = 0\n",
    "UNKNOWN   = 1\n",
    "ONDECK    = 2\n",
    "PROCESSED = 3\n",
    "PATH      = 4\n",
    "\n",
    "# Define the constant START and GOAL positions\n",
    "START = (5,  4)\n",
    "GOAL  = (5, 12)"
   ]
  },
  {
   "cell_type": "markdown",
   "id": "greater-volunteer",
   "metadata": {},
   "source": [
    "### Helper Functions\n",
    "\n",
    "\n",
    "#### showgrid(M,N)\n",
    "\n",
    "Create a figure for an M (rows) x N (column) grid.  The X-axis will be the columns (to the right) and the Y-axis will be the rows (top downward). The only change between this function and the one posted on Canvas is the addition of an extra color to show the path in the final view of the grid."
   ]
  },
  {
   "cell_type": "code",
   "execution_count": 3,
   "id": "expanded-radiation",
   "metadata": {},
   "outputs": [],
   "source": [
    "def showgrid(state):\n",
    "\n",
    "    # Grab the dimensions.\n",
    "    M = np.size(state, axis=0)\n",
    "    N = np.size(state, axis=1)\n",
    "\n",
    "    # Close the old figure.\n",
    "    plt.close()\n",
    "\n",
    "    # Create the figure and axes.\n",
    "    fig = plt.figure()\n",
    "    ax  = plt.axes()\n",
    "\n",
    "    # turn off the axis labels\n",
    "    ax.axis('off')\n",
    "\n",
    "    # Draw the grid, zorder 1 means draw after zorder 0 elements.\n",
    "    for m in range(M+1):\n",
    "        ax.axhline(m, lw=1, color='b', zorder=1)\n",
    "    for n in range(N+1):\n",
    "        ax.axvline(n, lw=1, color='b', zorder=1)\n",
    "\n",
    "    # Create the color range.  There are clearly more elegant ways...\n",
    "    color = np.ones((M,N,3))\n",
    "    for m in range(M):\n",
    "        for n in range(N):\n",
    "            if   state[m,n] == WALL:\n",
    "                color[m,n,0:3] = np.array([0.0, 0.0, 0.0])   # Black\n",
    "            elif state[m,n] == UNKNOWN:\n",
    "                color[m,n,0:3] = np.array([1.0, 1.0, 1.0])   # White\n",
    "            elif state[m,n] == ONDECK:\n",
    "                color[m,n,0:3] = np.array([0.0, 1.0, 0.0])   # Green\n",
    "            elif state[m,n] == PROCESSED:\n",
    "                color[m,n,0:3] = np.array([0.0, 0.0, 1.0])   # Blue\n",
    "            elif state[m,n] == PATH:\n",
    "                color[m,n,0:3] = np.array([0.2, 1.0, 1.0])   # Cyan\n",
    "            else:\n",
    "                color[m,n,0:3] = np.array([1.0, 0.0, 0.0])   # Red\n",
    "    \n",
    "    # Draw the boxes\n",
    "    ax.imshow(color, aspect='equal', interpolation='none',\n",
    "              extent=[0, N, 0, M], zorder=0)\n",
    "\n",
    "    # Force the figure to pop up.\n",
    "    plt.pause(0.001)"
   ]
  },
  {
   "cell_type": "markdown",
   "id": "progressive-virgin",
   "metadata": {},
   "source": [
    "#### resetState()\n",
    "\n",
    "Returns a new state with the walls and unknowns as defined in the problem statement. This is largely adapted from the demo code, but has been reimplemented as a function."
   ]
  },
  {
   "cell_type": "code",
   "execution_count": 4,
   "id": "frozen-cooperative",
   "metadata": {},
   "outputs": [],
   "source": [
    "def resetState():\n",
    "    # Define the grid with unknown states.\n",
    "    M = 11\n",
    "    N = 17\n",
    "    \n",
    "    state = np.ones((M,N)) * UNKNOWN\n",
    "    \n",
    "    # Populate the states\n",
    "    state[ 0,0:] = WALL\n",
    "    state[-1,0:] = WALL\n",
    "    state[0:, 0] = WALL\n",
    "    state[0:,-1] = WALL\n",
    "    \n",
    "    state[3, 4:10] = WALL\n",
    "    state[4,   10] = WALL\n",
    "    state[5,   11] = WALL\n",
    "    state[6,   12] = WALL\n",
    "    state[7,   13] = WALL\n",
    "    state[7:M,  7] = WALL\n",
    "    \n",
    "    return state"
   ]
  },
  {
   "cell_type": "markdown",
   "id": "adjusted-moisture",
   "metadata": {},
   "source": [
    "#### build_path(goal, pnodes)\n",
    "\n",
    "Given a goal and a dictionary mapping a node to the one before it, returns an ordered list from the start node to the final node. This function is used to reconstruct the paths once the searches complete. This function assumes there is a backwards path from the final node to some 'start' node which corresponds to `None` in the dictionary of previous nodes (has no prior node)."
   ]
  },
  {
   "cell_type": "code",
   "execution_count": 5,
   "id": "typical-breakfast",
   "metadata": {},
   "outputs": [],
   "source": [
    "def build_path(goal, pnodes):\n",
    "    # Start the path at the end\n",
    "    path = [goal]\n",
    "    current = goal\n",
    "    \n",
    "    # While the current node has one before it, add the prior\n",
    "    # node to the path then redo the check with this node\n",
    "    while pnodes[current] != None:\n",
    "        path.append(pnodes[current])\n",
    "        current = pnodes[current]\n",
    "    \n",
    "    # Once the start node is reached, reverse the path (start -> goal) and return\n",
    "    path.reverse()\n",
    "    return path"
   ]
  },
  {
   "cell_type": "markdown",
   "id": "substantial-hepatitis",
   "metadata": {},
   "source": [
    "### a) Djikstra\n",
    "\n",
    "The following function takes the start and goal positions along with the state of the board and goes through the Djikstra algorithm. The function returns a tuple where the first index holds the computed path from the start to the goal and the second index holds the final state of the board.\n",
    "\n",
    "The algorithm works as follows:\n",
    "1. A FIFO Queue (ondeck) is created to hold ondeck nodes, and a dictionary (prior_node) is created to map a node to its prior node. The Queue is initialized holding only the start node, and the dictionary starts only mapping the start node to `None` (since start does not have a prior node)\n",
    "2. While ondeck contains nodes:\n",
    "    * Pop the next node in ondeck, and call it the 'current' node.\n",
    "    * If the current node is the goal, mark it as processed and return the path and state.\n",
    "    * For each node which can be reached from the current node, if its state is unknown, mark it as ondeck by adding it to the list and marking its state, then assign its prior node to the current node.\n",
    "    * Once all child nodes have been checked, mark the current node as processed.\n",
    "3. When ondeck is empty, this means a path could not be found, so return None for the path and the final state."
   ]
  },
  {
   "cell_type": "code",
   "execution_count": 6,
   "id": "electronic-ordering",
   "metadata": {},
   "outputs": [],
   "source": [
    "def djikstra(start, goal, state):\n",
    "    # Tracks which nodes are in ondeck and when they were added to ondeck\n",
    "    ondeck = [start]\n",
    "    # For any node, stores the node prior to it\n",
    "    prior_node = {start:None}\n",
    "    \n",
    "    # While there is a node that has not been fully processed, process it\n",
    "    while ondeck:\n",
    "        \n",
    "        # Get whatever has been in ondeck the longest (first element)\n",
    "        current = ondeck.pop(0)\n",
    "        if current == goal:\n",
    "            state[current] = PROCESSED\n",
    "            # Return the path used to get to the goal and the state\n",
    "            return (build_path(goal, prior_node), state)\n",
    "        \n",
    "        # Get the next nodes in each direction (up down left right)\n",
    "        for i in (-1,1): # -1 for up/left, +1 for down/right\n",
    "            for axis in (0, 1): # axis 0 for right/left, 1 for up/down\n",
    "                \n",
    "                # Find the next node in the specified direction\n",
    "                nnode = (current[0] + (i if axis==1 else 0),\n",
    "                         current[1] + (i if axis==0 else 0))\n",
    "                \n",
    "                # If the node has not been seen yet, add to ondeck and track\n",
    "                # the node used to get to this one (the current node)\n",
    "                if state[nnode] == UNKNOWN:\n",
    "                    state[nnode] = ONDECK\n",
    "                    ondeck.append(nnode)\n",
    "                    prior_node[nnode] = current\n",
    "        \n",
    "        # Mark the node as processed, check if we've reached the goal, then continue\n",
    "        state[current] = PROCESSED\n",
    "    \n",
    "    # If a path could not be found\n",
    "    return (None, state)"
   ]
  },
  {
   "cell_type": "markdown",
   "id": "mental-sister",
   "metadata": {},
   "source": [
    "Now, we run the path search for a blank state as follows:"
   ]
  },
  {
   "cell_type": "code",
   "execution_count": 7,
   "id": "fancy-tanzania",
   "metadata": {},
   "outputs": [],
   "source": [
    "# runs Djikstra\n",
    "(djik_path, djik_state) = djikstra(START, GOAL, resetState())\n",
    "\n",
    "# Counts the final number of processed nodes\n",
    "djik_process_count = sum([x.tolist().count(PROCESSED) for x in djik_state])"
   ]
  },
  {
   "cell_type": "markdown",
   "id": "acoustic-imaging",
   "metadata": {},
   "source": [
    "Output the data from the djikstra search:"
   ]
  },
  {
   "cell_type": "code",
   "execution_count": 8,
   "id": "equal-complaint",
   "metadata": {},
   "outputs": [
    {
     "name": "stdout",
     "output_type": "stream",
     "text": [
      "Discovered Path:\t [(5, 4), (5, 3), (4, 3), (3, 3), (2, 3), (2, 4), (2, 5), (2, 6), (2, 7), (2, 8), (2, 9), (2, 10), (2, 11), (2, 12), (3, 12), (4, 12), (5, 12)]\n",
      "Path length:    \t 17\n",
      "Processed Nodes:\t 113\n"
     ]
    },
    {
     "data": {
      "image/png": "[encoded data removed]",
      "text/plain": [
       "<Figure size 432x288 with 1 Axes>"
      ]
     },
     "metadata": {
      "needs_background": "light"
     },
     "output_type": "display_data"
    }
   ],
   "source": [
    "print(\"Discovered Path:\\t\", djik_path)\n",
    "print(\"Path length:    \\t\", len(djik_path))\n",
    "print(\"Processed Nodes:\\t\", djik_process_count)\n",
    "\n",
    "for node in djik_path:\n",
    "    djik_state[node] = PATH\n",
    "showgrid(djik_state)"
   ]
  },
  {
   "cell_type": "markdown",
   "id": "southwest-proceeding",
   "metadata": {},
   "source": [
    "### bcd) A*\n",
    "\n",
    "The following function takes the start and goal positions along with the state of the board and the path cost metric and goes through the A* algorithm. The function returns a tuple where the first index holds the computed path from the start to the goal and the second index holds the final state of the board.\n",
    "\n",
    "The path cost is given as a function mapping a tuple to an integer. As such, an input `c_path(node)` should return the path cost for that node.\n",
    "\n",
    "The A* algorithm works almost exactly like Djikstra, except it takes into account the cost of the current path when selecting a node from ondeck. The algorithm works as follows:\n",
    "1. A list (ondeck) is created to hold ondeck nodes, and a dictionary (prior_node) is created to map a node to its prior node. The Queue is initialized holding only the start node, and the dictionary starts only mapping the start node to `None` (since start does not have a prior node)\n",
    "2. While ondeck contains nodes:\n",
    "    * Sort ondeck by increasing path cost, so the first node has the lowest path cost.\n",
    "    * Pop the first node in ondeck, and call it the 'current' node. (This node will have the lowest path cost of all nodes in ondeck)\n",
    "    * If the current node is the goal, mark it as processed and return the path and state.\n",
    "    * For each node which can be reached from the current node, if its state is unknown, mark it as ondeck by adding it to the list and marking its state, then assign its prior node to the current node.\n",
    "    * Once all child nodes have been checked, mark the current node as processed.\n",
    "3. When ondeck is empty, this means a path could not be found, so return None for the path and the final state."
   ]
  },
  {
   "cell_type": "code",
   "execution_count": 9,
   "id": "premium-nothing",
   "metadata": {},
   "outputs": [],
   "source": [
    "def astar(start, goal, state, c_path):\n",
    "    # Tracks which nodes are in ondeck and when they were added to ondeck\n",
    "    ondeck = [start]\n",
    "    # For any node, stores the node prior to it\n",
    "    prior_node = {start:None}\n",
    "    \n",
    "    # While there is a node that has not been fully processed, process it\n",
    "    while ondeck:\n",
    "        # Sort ondeck by the path cost for each node, so the first entry\n",
    "        # has the lowest path cost, then get the first entry \n",
    "        ondeck.sort(key=c_path)\n",
    "        current = ondeck.pop(0)\n",
    "        \n",
    "        if current == goal:\n",
    "            state[current] = PROCESSED\n",
    "            # Return the path used to get to the goal and the state\n",
    "            return (build_path(goal, prior_node), state)\n",
    "        \n",
    "        # Get the next nodes in each direction (up down left right)\n",
    "        for i in (-1,1): # -1 for up/left, +1 for down/right\n",
    "            for axis in (0, 1): # axis 0 for right/left, 1 for up/down\n",
    "                \n",
    "                # Find the next node in the specified direction\n",
    "                nnode = (current[0] + (i if axis==1 else 0),\n",
    "                         current[1] + (i if axis==0 else 0))\n",
    "                \n",
    "                # If the node has not been seen yet, add to ondeck and track\n",
    "                # the node used to get to this one (the current node)\n",
    "                if state[nnode] == UNKNOWN:\n",
    "                    state[nnode] = ONDECK\n",
    "                    ondeck.append(nnode)\n",
    "                    prior_node[nnode] = current\n",
    "        \n",
    "        # Mark the node as processed, check if we've reached the goal, then continue\n",
    "        state[current] = PROCESSED\n",
    "    \n",
    "    # If a path could not be found\n",
    "    return (None, state)"
   ]
  },
  {
   "cell_type": "markdown",
   "id": "liquid-stomach",
   "metadata": {},
   "source": [
    "### b) Manhattan Dist. Cost to Go\n",
    "\n",
    "In this case, the path cost of a node is the sum of the manhattan distance from that node to the start and the goal nodes. This is defined in a lambda function as:"
   ]
  },
  {
   "cell_type": "code",
   "execution_count": 10,
   "id": "desirable-relay",
   "metadata": {},
   "outputs": [],
   "source": [
    "c_path_1 = lambda x: 1*(abs(x[0]- GOAL[0]) + abs(x[1]- GOAL[1])) +\\\n",
    "                     1*(abs(x[0]-START[0]) + abs(x[1]-START[1]))"
   ]
  },
  {
   "cell_type": "markdown",
   "id": "capital-scanner",
   "metadata": {},
   "source": [
    "Running the A* algorithm with this path cost metric and printing results, we see:"
   ]
  },
  {
   "cell_type": "code",
   "execution_count": 11,
   "id": "optical-compiler",
   "metadata": {},
   "outputs": [
    {
     "name": "stdout",
     "output_type": "stream",
     "text": [
      "Discovered Path:\t [(5, 4), (5, 3), (4, 3), (3, 3), (2, 3), (2, 4), (2, 5), (2, 6), (2, 7), (2, 8), (2, 9), (2, 10), (3, 10), (3, 11), (4, 11), (4, 12), (5, 12)]\n",
      "Path length:    \t 17\n",
      "Processed Nodes:\t 63\n"
     ]
    },
    {
     "data": {
      "image/png": "[encoded data removed]",
      "text/plain": [
       "<Figure size 432x288 with 1 Axes>"
      ]
     },
     "metadata": {
      "needs_background": "light"
     },
     "output_type": "display_data"
    }
   ],
   "source": [
    "# Runs A*\n",
    "(astar_path, astar_state) = astar(START, GOAL, resetState(), c_path_1)\n",
    "\n",
    "# Counts the final number of processed nodes\n",
    "astar_process_count = sum([x.tolist().count(PROCESSED) for x in astar_state])\n",
    "\n",
    "print(\"Discovered Path:\\t\", astar_path)\n",
    "print(\"Path length:    \\t\", len(astar_path))\n",
    "print(\"Processed Nodes:\\t\", astar_process_count)\n",
    "\n",
    "for node in astar_path:\n",
    "    astar_state[node] = PATH\n",
    "showgrid(astar_state)"
   ]
  },
  {
   "cell_type": "markdown",
   "id": "fixed-aquarium",
   "metadata": {},
   "source": [
    "### c) Double Manhattan Dist Cost to Go\n",
    "\n",
    "Now, we redefine the cost to go by multiplying it by 2. As such, for the path cost we must multiply the manhattan distance to the goal by 2, while maintaining the cost from the start. The path cost is now defined as follows:"
   ]
  },
  {
   "cell_type": "code",
   "execution_count": 12,
   "id": "underlying-history",
   "metadata": {},
   "outputs": [],
   "source": [
    "c_path_2 = lambda x: 2*(abs(x[0]- GOAL[0]) + abs(x[1]- GOAL[1])) +\\\n",
    "                     1*(abs(x[0]-START[0]) + abs(x[1]-START[1]))"
   ]
  },
  {
   "cell_type": "markdown",
   "id": "russian-plaintiff",
   "metadata": {},
   "source": [
    "Running A* as before and printing results, we have:"
   ]
  },
  {
   "cell_type": "code",
   "execution_count": 13,
   "id": "yellow-illness",
   "metadata": {},
   "outputs": [
    {
     "name": "stdout",
     "output_type": "stream",
     "text": [
      "Discovered Path:\t [(5, 4), (5, 5), (5, 6), (5, 7), (5, 8), (5, 9), (5, 10), (6, 10), (6, 11), (7, 11), (7, 12), (8, 12), (8, 13), (8, 14), (7, 14), (6, 14), (6, 13), (5, 13), (5, 12)]\n",
      "Path length:    \t 19\n",
      "Processed Nodes:\t 50\n"
     ]
    },
    {
     "data": {
      "image/png": "[encoded data removed]",
      "text/plain": [
       "<Figure size 432x288 with 1 Axes>"
      ]
     },
     "metadata": {
      "needs_background": "light"
     },
     "output_type": "display_data"
    }
   ],
   "source": [
    "# Runs A*\n",
    "(astar_path, astar_state) = astar(START, GOAL, resetState(), c_path_2)\n",
    "\n",
    "# Counts the final number of processed nodes\n",
    "astar_process_count = sum([x.tolist().count(PROCESSED) for x in astar_state])\n",
    "\n",
    "print(\"Discovered Path:\\t\", astar_path)\n",
    "print(\"Path length:    \\t\", len(astar_path))\n",
    "print(\"Processed Nodes:\\t\", astar_process_count)\n",
    "\n",
    "for node in astar_path:\n",
    "    astar_state[node] = PATH\n",
    "showgrid(astar_state)"
   ]
  },
  {
   "cell_type": "markdown",
   "id": "threaded-cancellation",
   "metadata": {},
   "source": [
    "### d) 10x Manhattan Dist Cost to Go\n",
    "\n",
    "Now, we create a much more aggressive heuristic, multiplying the manhattan distance to the goal by 10. The new path cost is defined as follows:"
   ]
  },
  {
   "cell_type": "code",
   "execution_count": 14,
   "id": "sealed-thong",
   "metadata": {},
   "outputs": [],
   "source": [
    "c_path_10 = lambda x: 10*(abs(x[0]- GOAL[0]) + abs(x[1]- GOAL[1])) +\\\n",
    "                       1*(abs(x[0]-START[0]) + abs(x[1]-START[1]))"
   ]
  },
  {
   "cell_type": "markdown",
   "id": "adult-synthetic",
   "metadata": {},
   "source": [
    "The results for A* with this path cost function are given below:"
   ]
  },
  {
   "cell_type": "code",
   "execution_count": 15,
   "id": "statistical-surgeon",
   "metadata": {},
   "outputs": [
    {
     "name": "stdout",
     "output_type": "stream",
     "text": [
      "Discovered Path:\t [(5, 4), (5, 5), (5, 6), (5, 7), (5, 8), (5, 9), (5, 10), (6, 10), (6, 11), (7, 11), (7, 12), (8, 12), (8, 13), (8, 14), (7, 14), (6, 14), (6, 13), (5, 13), (5, 12)]\n",
      "Path length:    \t 19\n",
      "Processed Nodes:\t 29\n"
     ]
    },
    {
     "data": {
      "image/png": "[encoded data removed]",
      "text/plain": [
       "<Figure size 432x288 with 1 Axes>"
      ]
     },
     "metadata": {
      "needs_background": "light"
     },
     "output_type": "display_data"
    }
   ],
   "source": [
    "# Runs A*\n",
    "(astar_path, astar_state) = astar(START, GOAL, resetState(), c_path_10)\n",
    "\n",
    "# Counts the final number of processed nodes\n",
    "astar_process_count = sum([x.tolist().count(PROCESSED) for x in astar_state])\n",
    "\n",
    "print(\"Discovered Path:\\t\", astar_path)\n",
    "print(\"Path length:    \\t\", len(astar_path))\n",
    "print(\"Processed Nodes:\\t\", astar_process_count)\n",
    "\n",
    "for node in astar_path:\n",
    "    astar_state[node] = PATH\n",
    "showgrid(astar_state)"
   ]
  },
  {
   "cell_type": "markdown",
   "id": "still-valley",
   "metadata": {},
   "source": [
    "### Overall\n",
    "\n",
    "As shown above, the optimal path of length 17 was reached by both A* with the lightest weight and Djikstra, but A* took much less processing power, processing only 63 nodes compared to Djikstra's 113. On the other hand, the two heavier weighted A* runs both found slightly less optimal paths of length 19, but processed only 50 nodes in the 2x case and 29 in the 10x case. This shows A* drastically cuts down on processing time, but when the heuristic is not consistent there is no guarantee that the optimal state will be reached, while with Djikstra optimality is always guaranteed at the expense of processing power."
   ]
  },
  {
   "cell_type": "markdown",
   "id": "suspected-issue",
   "metadata": {},
   "source": [
    "## Problem 2: Check Linux and ROS\n",
    "\n",
    "I had a bunch of issues with VirtualBox last term, but I believe they have been resolved, since we discovered during the final few weeks that having VirtualBox in scaled mode made it very prone to lagging and glitching. I also now have a secondary Windows machine I will be able to work on if my Mac machine fails me again, so I'm all set with VirtualBox/Linux/ROS."
   ]
  },
  {
   "cell_type": "markdown",
   "id": "injured-container",
   "metadata": {},
   "source": [
    "## Problem 3: Time Spent\n",
    "\n",
    "**Total Time: 3 hr 10 min**\n",
    "* Problem 1 Programming: 2 hours\n",
    "* Problem 1 Writeup: 1 hour\n",
    "* Linux/ROS: 10 min"
   ]
  }
 ],
 "metadata": {
  "kernelspec": {
   "display_name": "Python 3",
   "language": "python",
   "name": "python3"
  },
  "language_info": {
   "codemirror_mode": {
    "name": "ipython",
    "version": 3
   },
   "file_extension": ".py",
   "mimetype": "text/x-python",
   "name": "python",
   "nbconvert_exporter": "python",
   "pygments_lexer": "ipython3",
   "version": "3.8.8"
  }
 },
 "nbformat": 4,
 "nbformat_minor": 5
}
